{
  "nbformat": 4,
  "nbformat_minor": 0,
  "metadata": {
    "colab": {
      "provenance": []
    },
    "kernelspec": {
      "name": "python3",
      "display_name": "Python 3"
    },
    "language_info": {
      "name": "python"
    }
  },
  "cells": [
    {
      "cell_type": "code",
      "execution_count": 1,
      "metadata": {
        "colab": {
          "base_uri": "https://localhost:8080/"
        },
        "id": "rpf7hfp7MfLs",
        "outputId": "67e5cbfd-7102-4f42-c4bd-cb8d37f01cc6"
      },
      "outputs": [
        {
          "output_type": "stream",
          "name": "stdout",
          "text": [
            "Mounted at /content/drive\n"
          ]
        }
      ],
      "source": [
        "# Mount Google Drive (if using Google Colab)\n",
        "from google.colab import drive\n",
        "drive.mount('/content/drive')"
      ]
    },
    {
      "cell_type": "code",
      "source": [
        "import tensorflow as tf\n",
        "from tensorflow.keras.layers import Dense, Dropout, Conv2D, MaxPooling2D, Flatten, BatchNormalization, LeakyReLU, Input, ReLU, GlobalAveragePooling2D, Add, Attention, Reshape\n",
        "from tensorflow.keras.models import Model\n",
        "from tensorflow.keras.optimizers import Adam\n",
        "from tensorflow.keras.preprocessing.image import ImageDataGenerator\n",
        "from sklearn.metrics import classification_report, confusion_matrix\n",
        "import matplotlib.pyplot as plt\n",
        "import seaborn as sns\n",
        "import numpy as np\n",
        "import os\n",
        "import tensorflow_hub as hub"
      ],
      "metadata": {
        "id": "-NNjezVPNG3Y"
      },
      "execution_count": 19,
      "outputs": []
    },
    {
      "cell_type": "code",
      "source": [
        "# Define the directory paths\n",
        "base_dir = \"/content/drive/MyDrive/pest/\"\n",
        "train_dir = os.path.join(base_dir, \"train\")\n",
        "test_dir = os.path.join(base_dir, \"test\")\n",
        "models_dir = os.path.join(base_dir, \"models\")\n",
        "\n",
        "# Define the classes\n",
        "CLASSES = [\n",
        "    'stem_borer', 'sawfly', 'mosquito', 'mites', 'grasshopper',\n",
        "    'bollworm', 'beetle', 'armyworm', 'aphids'\n",
        "]"
      ],
      "metadata": {
        "id": "UxZVaspxTJK4"
      },
      "execution_count": 20,
      "outputs": []
    },
    {
      "cell_type": "code",
      "source": [
        "# Data augmentation and data generators\n",
        "train_datagen = ImageDataGenerator(\n",
        "    rescale=1./255,\n",
        "    rotation_range=20,\n",
        "    width_shift_range=0.2,\n",
        "    height_shift_range=0.2,\n",
        "    shear_range=0.2,\n",
        "    zoom_range=0.2,\n",
        "    horizontal_flip=True,\n",
        "    fill_mode='nearest'\n",
        ")\n",
        "\n",
        "test_datagen = ImageDataGenerator(rescale=1./255)\n",
        "\n",
        "train_generator = train_datagen.flow_from_directory(\n",
        "    train_dir,\n",
        "    target_size=(224, 224),  # Input size compatible with EfficientNetB0\n",
        "    batch_size=32,\n",
        "    class_mode='categorical'\n",
        ")\n",
        "\n",
        "test_generator = test_datagen.flow_from_directory(\n",
        "    test_dir,\n",
        "    target_size=(224, 224),\n",
        "    batch_size=32,\n",
        "    class_mode='categorical',\n",
        "    shuffle=False\n",
        ")\n"
      ],
      "metadata": {
        "colab": {
          "base_uri": "https://localhost:8080/"
        },
        "id": "H3HS9dICTMxP",
        "outputId": "7634a752-4a7e-4f1a-d152-1d687b205f8f"
      },
      "execution_count": 21,
      "outputs": [
        {
          "output_type": "stream",
          "name": "stdout",
          "text": [
            "Found 2700 images belonging to 9 classes.\n",
            "Found 450 images belonging to 9 classes.\n"
          ]
        }
      ]
    },
    {
      "cell_type": "code",
      "source": [
        "# Load the pre-trained model (EfficientNetB0 from TensorFlow Hub)\n",
        "MODULE_HANDLE = \"https://tfhub.dev/google/efficientnet/b0/feature-vector/1\"\n",
        "feature_extractor = hub.KerasLayer(MODULE_HANDLE, input_shape=(224, 224, 3), trainable=False)\n"
      ],
      "metadata": {
        "id": "2fkegrzfTW8L"
      },
      "execution_count": 22,
      "outputs": []
    },
    {
      "cell_type": "code",
      "source": [
        "# Define DeepPestNet CNN model\n",
        "def create_deeppestnet_custom_model(input_shape, num_classes):\n",
        "    inputs = Input(shape=input_shape)\n",
        "    x = feature_extractor(inputs)\n",
        "\n",
        "    # Adding convolutional layers directly on the feature vector\n",
        "    x = Dense(7 * 7 * 128)(x)\n",
        "    x = Reshape((7, 7, 128))(x)\n",
        "\n",
        "    x = Conv2D(64, (7, 7), strides=(2, 2), padding='same')(x)\n",
        "    x = ReLU()(x)\n",
        "    x = MaxPooling2D((3, 3), strides=(2, 2), padding='same')(x)\n",
        "    x = BatchNormalization()(x)\n",
        "\n",
        "    x = Conv2D(64, (1, 1), padding='same')(x)\n",
        "    x = LeakyReLU(alpha=0.01)(x)\n",
        "    x = MaxPooling2D((3, 3), strides=(2, 2), padding='same')(x)\n",
        "\n",
        "    x = Conv2D(192, (3, 3), padding='same')(x)\n",
        "    x = LeakyReLU(alpha=0.01)(x)\n",
        "    x = MaxPooling2D((3, 3), strides=(2, 2), padding='same')(x)\n",
        "    x = BatchNormalization()(x)\n",
        "\n",
        "    x = Conv2D(512, (3, 3), strides=(2, 2), padding='same')(x)\n",
        "    x = LeakyReLU(alpha=0.01)(x)\n",
        "    x = MaxPooling2D((3, 3), strides=(2, 2), padding='same')(x)\n",
        "\n",
        "    x = Conv2D(384, (3, 3), padding='same')(x)\n",
        "    x = LeakyReLU(alpha=0.01)(x)\n",
        "    x = BatchNormalization()(x)\n",
        "\n",
        "    for _ in range(3):\n",
        "        x = Conv2D(256, (3, 3), padding='same')(x)\n",
        "        x = LeakyReLU(alpha=0.01)(x)\n",
        "\n",
        "    # Attention layer\n",
        "    attention = Attention()([x, x])\n",
        "    x = Add()([x, attention])\n",
        "\n",
        "    x = Flatten()(x)\n",
        "    x = Dense(4096)(x)\n",
        "    x = LeakyReLU(alpha=0.01)(x)\n",
        "    x = Dropout(0.5)(x)\n",
        "\n",
        "    x = Dense(4096)(x)\n",
        "    x = LeakyReLU(alpha=0.01)(x)\n",
        "    x = Dropout(0.5)(x)\n",
        "\n",
        "    outputs = Dense(num_classes, activation='softmax')(x)\n",
        "\n",
        "    model = Model(inputs, outputs)\n",
        "    return model\n"
      ],
      "metadata": {
        "id": "8Oj6x06MTtD5"
      },
      "execution_count": 23,
      "outputs": []
    },
    {
      "cell_type": "code",
      "source": [
        "# Create and compile the DeepPestNet model\n",
        "input_shape = (224, 224, 3)\n",
        "num_classes = len(CLASSES)\n",
        "deeppestnet_model = create_deeppestnet_custom_model(input_shape, num_classes)\n",
        "\n",
        "deeppestnet_model.compile(\n",
        "    optimizer=Adam(learning_rate=0.001),\n",
        "    loss='categorical_crossentropy',\n",
        "    metrics=['accuracy']\n",
        ")\n",
        "\n",
        "# Print model summary\n",
        "deeppestnet_model.summary()\n"
      ],
      "metadata": {
        "colab": {
          "base_uri": "https://localhost:8080/"
        },
        "id": "7HvV-cOxT5Sq",
        "outputId": "05ebe338-9281-48ab-c961-3320db23256d"
      },
      "execution_count": 24,
      "outputs": [
        {
          "output_type": "stream",
          "name": "stdout",
          "text": [
            "Model: \"model\"\n",
            "__________________________________________________________________________________________________\n",
            " Layer (type)                Output Shape                 Param #   Connected to                  \n",
            "==================================================================================================\n",
            " input_5 (InputLayer)        [(None, 224, 224, 3)]        0         []                            \n",
            "                                                                                                  \n",
            " keras_layer_2 (KerasLayer)  (None, 1280)                 4049564   ['input_5[0][0]']             \n",
            "                                                                                                  \n",
            " dense (Dense)               (None, 6272)                 8034432   ['keras_layer_2[0][0]']       \n",
            "                                                                                                  \n",
            " reshape_3 (Reshape)         (None, 7, 7, 128)            0         ['dense[0][0]']               \n",
            "                                                                                                  \n",
            " conv2d_1 (Conv2D)           (None, 4, 4, 64)             401472    ['reshape_3[0][0]']           \n",
            "                                                                                                  \n",
            " re_lu (ReLU)                (None, 4, 4, 64)             0         ['conv2d_1[0][0]']            \n",
            "                                                                                                  \n",
            " max_pooling2d (MaxPooling2  (None, 2, 2, 64)             0         ['re_lu[0][0]']               \n",
            " D)                                                                                               \n",
            "                                                                                                  \n",
            " batch_normalization (Batch  (None, 2, 2, 64)             256       ['max_pooling2d[0][0]']       \n",
            " Normalization)                                                                                   \n",
            "                                                                                                  \n",
            " conv2d_2 (Conv2D)           (None, 2, 2, 64)             4160      ['batch_normalization[0][0]'] \n",
            "                                                                                                  \n",
            " leaky_re_lu (LeakyReLU)     (None, 2, 2, 64)             0         ['conv2d_2[0][0]']            \n",
            "                                                                                                  \n",
            " max_pooling2d_1 (MaxPoolin  (None, 1, 1, 64)             0         ['leaky_re_lu[0][0]']         \n",
            " g2D)                                                                                             \n",
            "                                                                                                  \n",
            " conv2d_3 (Conv2D)           (None, 1, 1, 192)            110784    ['max_pooling2d_1[0][0]']     \n",
            "                                                                                                  \n",
            " leaky_re_lu_1 (LeakyReLU)   (None, 1, 1, 192)            0         ['conv2d_3[0][0]']            \n",
            "                                                                                                  \n",
            " max_pooling2d_2 (MaxPoolin  (None, 1, 1, 192)            0         ['leaky_re_lu_1[0][0]']       \n",
            " g2D)                                                                                             \n",
            "                                                                                                  \n",
            " batch_normalization_1 (Bat  (None, 1, 1, 192)            768       ['max_pooling2d_2[0][0]']     \n",
            " chNormalization)                                                                                 \n",
            "                                                                                                  \n",
            " conv2d_4 (Conv2D)           (None, 1, 1, 512)            885248    ['batch_normalization_1[0][0]'\n",
            "                                                                    ]                             \n",
            "                                                                                                  \n",
            " leaky_re_lu_2 (LeakyReLU)   (None, 1, 1, 512)            0         ['conv2d_4[0][0]']            \n",
            "                                                                                                  \n",
            " max_pooling2d_3 (MaxPoolin  (None, 1, 1, 512)            0         ['leaky_re_lu_2[0][0]']       \n",
            " g2D)                                                                                             \n",
            "                                                                                                  \n",
            " conv2d_5 (Conv2D)           (None, 1, 1, 384)            1769856   ['max_pooling2d_3[0][0]']     \n",
            "                                                                                                  \n",
            " leaky_re_lu_3 (LeakyReLU)   (None, 1, 1, 384)            0         ['conv2d_5[0][0]']            \n",
            "                                                                                                  \n",
            " batch_normalization_2 (Bat  (None, 1, 1, 384)            1536      ['leaky_re_lu_3[0][0]']       \n",
            " chNormalization)                                                                                 \n",
            "                                                                                                  \n",
            " conv2d_6 (Conv2D)           (None, 1, 1, 256)            884992    ['batch_normalization_2[0][0]'\n",
            "                                                                    ]                             \n",
            "                                                                                                  \n",
            " leaky_re_lu_4 (LeakyReLU)   (None, 1, 1, 256)            0         ['conv2d_6[0][0]']            \n",
            "                                                                                                  \n",
            " conv2d_7 (Conv2D)           (None, 1, 1, 256)            590080    ['leaky_re_lu_4[0][0]']       \n",
            "                                                                                                  \n",
            " leaky_re_lu_5 (LeakyReLU)   (None, 1, 1, 256)            0         ['conv2d_7[0][0]']            \n",
            "                                                                                                  \n",
            " conv2d_8 (Conv2D)           (None, 1, 1, 256)            590080    ['leaky_re_lu_5[0][0]']       \n",
            "                                                                                                  \n",
            " leaky_re_lu_6 (LeakyReLU)   (None, 1, 1, 256)            0         ['conv2d_8[0][0]']            \n",
            "                                                                                                  \n",
            " attention (Attention)       (None, 1, 1, 256)            0         ['leaky_re_lu_6[0][0]',       \n",
            "                                                                     'leaky_re_lu_6[0][0]']       \n",
            "                                                                                                  \n",
            " add (Add)                   (None, 1, 1, 256)            0         ['leaky_re_lu_6[0][0]',       \n",
            "                                                                     'attention[0][0]']           \n",
            "                                                                                                  \n",
            " flatten (Flatten)           (None, 256)                  0         ['add[0][0]']                 \n",
            "                                                                                                  \n",
            " dense_1 (Dense)             (None, 4096)                 1052672   ['flatten[0][0]']             \n",
            "                                                                                                  \n",
            " leaky_re_lu_7 (LeakyReLU)   (None, 4096)                 0         ['dense_1[0][0]']             \n",
            "                                                                                                  \n",
            " dropout (Dropout)           (None, 4096)                 0         ['leaky_re_lu_7[0][0]']       \n",
            "                                                                                                  \n",
            " dense_2 (Dense)             (None, 4096)                 1678131   ['dropout[0][0]']             \n",
            "                                                          2                                       \n",
            "                                                                                                  \n",
            " leaky_re_lu_8 (LeakyReLU)   (None, 4096)                 0         ['dense_2[0][0]']             \n",
            "                                                                                                  \n",
            " dropout_1 (Dropout)         (None, 4096)                 0         ['leaky_re_lu_8[0][0]']       \n",
            "                                                                                                  \n",
            " dense_3 (Dense)             (None, 9)                    36873     ['dropout_1[0][0]']           \n",
            "                                                                                                  \n",
            "==================================================================================================\n",
            "Total params: 35194085 (134.25 MB)\n",
            "Trainable params: 31143241 (118.80 MB)\n",
            "Non-trainable params: 4050844 (15.45 MB)\n",
            "__________________________________________________________________________________________________\n"
          ]
        }
      ]
    },
    {
      "cell_type": "code",
      "source": [
        "# Train the model\n",
        "history = deeppestnet_model.fit(\n",
        "    train_generator,\n",
        "    epochs=50,  # Adjust as needed\n",
        "    validation_data=test_generator\n",
        ")"
      ],
      "metadata": {
        "colab": {
          "base_uri": "https://localhost:8080/"
        },
        "id": "5gEHcA66T8Tw",
        "outputId": "263c3040-bf11-46c0-ed82-8cb224f54a2c"
      },
      "execution_count": 26,
      "outputs": [
        {
          "output_type": "stream",
          "name": "stdout",
          "text": [
            "Epoch 1/50\n",
            "85/85 [==============================] - 608s 7s/step - loss: 1.2715 - accuracy: 0.5552 - val_loss: 1.2098 - val_accuracy: 0.6222\n",
            "Epoch 2/50\n",
            "85/85 [==============================] - 358s 4s/step - loss: 0.8217 - accuracy: 0.7478 - val_loss: 0.9929 - val_accuracy: 0.7244\n",
            "Epoch 3/50\n",
            "85/85 [==============================] - 352s 4s/step - loss: 0.7032 - accuracy: 0.7752 - val_loss: 1.0365 - val_accuracy: 0.7689\n",
            "Epoch 4/50\n",
            "85/85 [==============================] - 352s 4s/step - loss: 0.6319 - accuracy: 0.8141 - val_loss: 0.7299 - val_accuracy: 0.7956\n",
            "Epoch 5/50\n",
            "85/85 [==============================] - 363s 4s/step - loss: 0.5764 - accuracy: 0.8481 - val_loss: 0.4412 - val_accuracy: 0.8844\n",
            "Epoch 6/50\n",
            "85/85 [==============================] - 353s 4s/step - loss: 0.4168 - accuracy: 0.8996 - val_loss: 0.2969 - val_accuracy: 0.9111\n",
            "Epoch 7/50\n",
            "85/85 [==============================] - 352s 4s/step - loss: 0.3173 - accuracy: 0.9259 - val_loss: 0.7353 - val_accuracy: 0.8533\n",
            "Epoch 8/50\n",
            "85/85 [==============================] - 353s 4s/step - loss: 0.3030 - accuracy: 0.9211 - val_loss: 0.2109 - val_accuracy: 0.9511\n",
            "Epoch 9/50\n",
            "85/85 [==============================] - 348s 4s/step - loss: 0.2951 - accuracy: 0.9278 - val_loss: 0.3572 - val_accuracy: 0.9244\n",
            "Epoch 10/50\n",
            "85/85 [==============================] - 352s 4s/step - loss: 0.1596 - accuracy: 0.9648 - val_loss: 0.2364 - val_accuracy: 0.9556\n",
            "Epoch 11/50\n",
            "85/85 [==============================] - 356s 4s/step - loss: 0.1893 - accuracy: 0.9526 - val_loss: 0.3070 - val_accuracy: 0.9200\n",
            "Epoch 12/50\n",
            "85/85 [==============================] - 350s 4s/step - loss: 0.1817 - accuracy: 0.9585 - val_loss: 0.3838 - val_accuracy: 0.9378\n",
            "Epoch 13/50\n",
            "85/85 [==============================] - 349s 4s/step - loss: 0.2348 - accuracy: 0.9515 - val_loss: 0.1617 - val_accuracy: 0.9600\n",
            "Epoch 14/50\n",
            "85/85 [==============================] - 355s 4s/step - loss: 0.1847 - accuracy: 0.9607 - val_loss: 0.1531 - val_accuracy: 0.9711\n",
            "Epoch 15/50\n",
            "85/85 [==============================] - 353s 4s/step - loss: 0.1351 - accuracy: 0.9696 - val_loss: 0.2551 - val_accuracy: 0.9600\n",
            "Epoch 16/50\n",
            "85/85 [==============================] - 355s 4s/step - loss: 0.0954 - accuracy: 0.9822 - val_loss: 0.1924 - val_accuracy: 0.9733\n",
            "Epoch 17/50\n",
            "85/85 [==============================] - 352s 4s/step - loss: 0.1431 - accuracy: 0.9726 - val_loss: 0.6004 - val_accuracy: 0.9444\n",
            "Epoch 18/50\n",
            "85/85 [==============================] - 355s 4s/step - loss: 0.2222 - accuracy: 0.9515 - val_loss: 0.3228 - val_accuracy: 0.9644\n",
            "Epoch 19/50\n",
            "85/85 [==============================] - 362s 4s/step - loss: 0.1142 - accuracy: 0.9733 - val_loss: 0.1897 - val_accuracy: 0.9622\n",
            "Epoch 20/50\n",
            "85/85 [==============================] - 353s 4s/step - loss: 0.1244 - accuracy: 0.9741 - val_loss: 0.2540 - val_accuracy: 0.9556\n",
            "Epoch 21/50\n",
            "85/85 [==============================] - 351s 4s/step - loss: 0.1674 - accuracy: 0.9685 - val_loss: 0.3694 - val_accuracy: 0.9289\n",
            "Epoch 22/50\n",
            "85/85 [==============================] - 351s 4s/step - loss: 0.1456 - accuracy: 0.9752 - val_loss: 0.8099 - val_accuracy: 0.9289\n",
            "Epoch 23/50\n",
            "85/85 [==============================] - 357s 4s/step - loss: 0.1178 - accuracy: 0.9744 - val_loss: 0.5993 - val_accuracy: 0.9622\n",
            "Epoch 24/50\n",
            "85/85 [==============================] - 352s 4s/step - loss: 0.1735 - accuracy: 0.9707 - val_loss: 0.3065 - val_accuracy: 0.9622\n",
            "Epoch 25/50\n",
            "85/85 [==============================] - 354s 4s/step - loss: 0.1207 - accuracy: 0.9752 - val_loss: 0.2920 - val_accuracy: 0.9622\n",
            "Epoch 26/50\n",
            "85/85 [==============================] - 356s 4s/step - loss: 0.1531 - accuracy: 0.9696 - val_loss: 0.1522 - val_accuracy: 0.9778\n",
            "Epoch 27/50\n",
            "85/85 [==============================] - 353s 4s/step - loss: 0.0522 - accuracy: 0.9904 - val_loss: 0.1423 - val_accuracy: 0.9711\n",
            "Epoch 28/50\n",
            "85/85 [==============================] - 354s 4s/step - loss: 0.0772 - accuracy: 0.9863 - val_loss: 0.3073 - val_accuracy: 0.9622\n",
            "Epoch 29/50\n",
            "85/85 [==============================] - 356s 4s/step - loss: 0.1833 - accuracy: 0.9752 - val_loss: 0.2354 - val_accuracy: 0.9533\n",
            "Epoch 30/50\n",
            "85/85 [==============================] - 358s 4s/step - loss: 0.1144 - accuracy: 0.9778 - val_loss: 0.1966 - val_accuracy: 0.9711\n",
            "Epoch 31/50\n",
            "85/85 [==============================] - 355s 4s/step - loss: 0.0746 - accuracy: 0.9837 - val_loss: 0.2180 - val_accuracy: 0.9578\n",
            "Epoch 32/50\n",
            "85/85 [==============================] - 353s 4s/step - loss: 0.1620 - accuracy: 0.9719 - val_loss: 0.3531 - val_accuracy: 0.9578\n",
            "Epoch 33/50\n",
            "85/85 [==============================] - 353s 4s/step - loss: 0.1644 - accuracy: 0.9700 - val_loss: 0.2897 - val_accuracy: 0.9578\n",
            "Epoch 34/50\n",
            "85/85 [==============================] - 354s 4s/step - loss: 0.0750 - accuracy: 0.9863 - val_loss: 0.3404 - val_accuracy: 0.9556\n",
            "Epoch 35/50\n",
            "85/85 [==============================] - 353s 4s/step - loss: 0.0404 - accuracy: 0.9922 - val_loss: 0.1818 - val_accuracy: 0.9756\n",
            "Epoch 36/50\n",
            "85/85 [==============================] - 351s 4s/step - loss: 0.0596 - accuracy: 0.9907 - val_loss: 0.2415 - val_accuracy: 0.9644\n",
            "Epoch 37/50\n",
            "85/85 [==============================] - 352s 4s/step - loss: 0.0613 - accuracy: 0.9878 - val_loss: 0.2251 - val_accuracy: 0.9822\n",
            "Epoch 38/50\n",
            "85/85 [==============================] - 352s 4s/step - loss: 0.1114 - accuracy: 0.9830 - val_loss: 0.5286 - val_accuracy: 0.9778\n",
            "Epoch 39/50\n",
            "85/85 [==============================] - 353s 4s/step - loss: 0.1057 - accuracy: 0.9833 - val_loss: 0.2261 - val_accuracy: 0.9667\n",
            "Epoch 40/50\n",
            "85/85 [==============================] - 353s 4s/step - loss: 0.2495 - accuracy: 0.9748 - val_loss: 0.8285 - val_accuracy: 0.8467\n",
            "Epoch 41/50\n",
            "85/85 [==============================] - 351s 4s/step - loss: 0.6118 - accuracy: 0.8885 - val_loss: 2.4548 - val_accuracy: 0.3533\n",
            "Epoch 42/50\n",
            "85/85 [==============================] - 360s 4s/step - loss: 0.8660 - accuracy: 0.6915 - val_loss: 0.4654 - val_accuracy: 0.8444\n",
            "Epoch 43/50\n",
            "85/85 [==============================] - 355s 4s/step - loss: 0.3593 - accuracy: 0.9100 - val_loss: 0.2010 - val_accuracy: 0.9667\n",
            "Epoch 44/50\n",
            "85/85 [==============================] - 354s 4s/step - loss: 0.2024 - accuracy: 0.9474 - val_loss: 0.2024 - val_accuracy: 0.9533\n",
            "Epoch 45/50\n",
            "85/85 [==============================] - 353s 4s/step - loss: 0.0665 - accuracy: 0.9833 - val_loss: 0.4521 - val_accuracy: 0.9444\n",
            "Epoch 46/50\n",
            "85/85 [==============================] - 353s 4s/step - loss: 0.1142 - accuracy: 0.9822 - val_loss: 0.3139 - val_accuracy: 0.9489\n",
            "Epoch 47/50\n",
            "85/85 [==============================] - 351s 4s/step - loss: 0.1349 - accuracy: 0.9700 - val_loss: 0.3285 - val_accuracy: 0.9689\n",
            "Epoch 48/50\n",
            "85/85 [==============================] - 360s 4s/step - loss: 0.0790 - accuracy: 0.9826 - val_loss: 0.1373 - val_accuracy: 0.9800\n",
            "Epoch 49/50\n",
            "85/85 [==============================] - 361s 4s/step - loss: 0.1378 - accuracy: 0.9722 - val_loss: 0.2226 - val_accuracy: 0.9667\n",
            "Epoch 50/50\n",
            "85/85 [==============================] - 354s 4s/step - loss: 0.1012 - accuracy: 0.9778 - val_loss: 0.1868 - val_accuracy: 0.9733\n"
          ]
        }
      ]
    },
    {
      "cell_type": "code",
      "source": [
        "# Evaluate the model\n",
        "test_loss, test_acc = deeppestnet_model.evaluate(test_generator)\n",
        "print(f'DeepPestNet Model Test accuracy: {test_acc}')\n",
        "\n",
        "# Classification report and confusion matrix\n",
        "Y_pred_deeppestnet = deeppestnet_model.predict(test_generator)\n",
        "y_pred_deeppestnet = np.argmax(Y_pred_deeppestnet, axis=1)\n",
        "\n",
        "print('Classification Report - DeepPestNet Model')\n",
        "print(classification_report(test_generator.classes, y_pred_deeppestnet, target_names=CLASSES))\n"
      ],
      "metadata": {
        "colab": {
          "base_uri": "https://localhost:8080/"
        },
        "id": "ubIxRW8_bD_A",
        "outputId": "d97ec153-1c39-4850-ea3c-8333f20dd1a8"
      },
      "execution_count": 28,
      "outputs": [
        {
          "output_type": "stream",
          "name": "stdout",
          "text": [
            "15/15 [==============================] - 36s 2s/step - loss: 0.1868 - accuracy: 0.9733\n",
            "DeepPestNet Model Test accuracy: 0.9733333587646484\n",
            "15/15 [==============================] - 38s 2s/step\n",
            "Classification Report - DeepPestNet Model\n",
            "              precision    recall  f1-score   support\n",
            "\n",
            "  stem_borer       0.96      1.00      0.98        50\n",
            "      sawfly       0.96      1.00      0.98        50\n",
            "    mosquito       1.00      1.00      1.00        50\n",
            "       mites       0.96      0.94      0.95        50\n",
            " grasshopper       1.00      1.00      1.00        50\n",
            "    bollworm       1.00      0.92      0.96        50\n",
            "      beetle       1.00      1.00      1.00        50\n",
            "    armyworm       0.96      0.92      0.94        50\n",
            "      aphids       0.92      0.98      0.95        50\n",
            "\n",
            "    accuracy                           0.97       450\n",
            "   macro avg       0.97      0.97      0.97       450\n",
            "weighted avg       0.97      0.97      0.97       450\n",
            "\n"
          ]
        }
      ]
    },
    {
      "cell_type": "code",
      "source": [
        "# Classification report and confusion matrix\n",
        "Y_pred_deeppestnet = deeppestnet_model.predict(test_generator)\n",
        "y_pred_deeppestnet = np.argmax(Y_pred_deeppestnet, axis=1)\n",
        "\n",
        "print('Classification Report - DeepPestNet Model')\n",
        "print(classification_report(test_generator.classes, y_pred_deeppestnet, target_names=CLASSES))\n",
        "\n",
        "print('Confusion Matrix - DeepPestNet Model')\n",
        "conf_matrix_deeppestnet = confusion_matrix(test_generator.classes, y_pred_deeppestnet)\n",
        "plt.figure(figsize=(10, 8))\n",
        "sns.heatmap(conf_matrix_deeppestnet, annot=True, fmt='d', cmap='Blues', xticklabels=CLASSES, yticklabels=CLASSES)\n",
        "plt.xlabel('Predicted')\n",
        "plt.ylabel('True')\n",
        "plt.title('Confusion Matrix - DeepPestNet Model')\n",
        "plt.show()\n",
        "\n",
        "# Save the DeepPestNet model\n",
        "deeppestnet_model.save(os.path.join(models_dir, 'deeppestnet_model.h5'))"
      ],
      "metadata": {
        "colab": {
          "base_uri": "https://localhost:8080/",
          "height": 1000
        },
        "id": "Qnc1AruYcTfa",
        "outputId": "6756807d-f736-4d6b-b912-3d8b5839d5eb"
      },
      "execution_count": 29,
      "outputs": [
        {
          "output_type": "stream",
          "name": "stdout",
          "text": [
            "15/15 [==============================] - 63s 4s/step\n",
            "Classification Report - DeepPestNet Model\n",
            "              precision    recall  f1-score   support\n",
            "\n",
            "  stem_borer       0.96      1.00      0.98        50\n",
            "      sawfly       0.96      1.00      0.98        50\n",
            "    mosquito       1.00      1.00      1.00        50\n",
            "       mites       0.96      0.94      0.95        50\n",
            " grasshopper       1.00      1.00      1.00        50\n",
            "    bollworm       1.00      0.92      0.96        50\n",
            "      beetle       1.00      1.00      1.00        50\n",
            "    armyworm       0.96      0.92      0.94        50\n",
            "      aphids       0.92      0.98      0.95        50\n",
            "\n",
            "    accuracy                           0.97       450\n",
            "   macro avg       0.97      0.97      0.97       450\n",
            "weighted avg       0.97      0.97      0.97       450\n",
            "\n",
            "Confusion Matrix - DeepPestNet Model\n"
          ]
        },
        {
          "output_type": "display_data",
          "data": {
            "text/plain": [
              "<Figure size 1000x800 with 2 Axes>"
            ],
            "image/png": "[encoded data removed]"
          },
          "metadata": {}
        },
        {
          "output_type": "stream",
          "name": "stderr",
          "text": [
            "/usr/local/lib/python3.10/dist-packages/keras/src/engine/training.py:3103: UserWarning: You are saving your model as an HDF5 file via `model.save()`. This file format is considered legacy. We recommend using instead the native Keras format, e.g. `model.save('my_model.keras')`.\n",
            "  saving_api.save_model(\n"
          ]
        }
      ]
    }
  ]
}